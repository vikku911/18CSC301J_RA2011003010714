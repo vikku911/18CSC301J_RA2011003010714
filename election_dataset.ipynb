import pandas as pd
import matplotlib.pyplot as plt

# define the dataset
data = {'State': ['Gujarat', 'Haryana', 'Haryana', 'Gujarat', 'Rajasthan', 'West Bengal', 'Gujarat', 'Delhi', 'Rajasthan', 'Gujarat', 'Uttar Pradesh', 'Gujarat', 'Gujarat', 'Delhi'],
        'Constituency Name': ['Navsari', 'Karnal', 'Faridabad', 'Anand', 'Bhilwara', 'Arambagh', 'Vadodara', 'West Delhi', 'Chittorgarh', 'Vadodara', 'Ghaziabad', 'Navsari', 'Gandhinagar', 'North West Delhi'],
        'Candidate': ['Shri C.R. Patil', 'Shri Sanjay Bhatiya', 'Shri Krishan Pal Gurjar', 'Shri Miteshbhai Patel', 'Shri Subhash Chandra Baheria', 'Anil Basu', 'Mrs. Ranjanben Bhatt', 'Sh. Pravesh Verma', 'Chandra Prakash Joshi', 'Narendra Modi', 'Vijay Kumar Singh', 'C. R. Patil', 'Shri Amit Shah', 'Shri Hansraj Hans'],
        'Party': ['BJP', 'BJP', 'BJP', 'BJP', 'BJP', 'CPM', 'BJP', 'BJP', 'BJP', 'BJP', 'BJP', 'BJP', 'BJP', 'BJP'],
        'Votes Margin': [689668, 656142, 638239, 633097, 612000, 592502, 589177, 578486, 576247, 570128, 567260, 558116, 557014, 553897],
        'Year': [2019, 2019, 2019, 2019, 2019, 2004, 2019, 2019, 2019, 2014, 2014, 2014, 2019, 2019]}

# create a pandas DataFrame from the data
df = pd.DataFrame(data)

# group by Constituency Name and sort by Votes Margin in descending order
df_sorted = df.groupby('Constituency Name').sum().sort_values('Votes Margin', ascending=False)

# get the top 5 Constituency Names and their corresponding Votes Margin
constituencies = df_sorted.index[:5]
votes_margin = df_sorted['Votes Margin'][:5]

# create a bar chart
plt.bar(constituencies, votes_margin, color='blue')

# set the chart title and axes labels
plt.title('Top 5 Constituencies with Highest Vote Margins')
plt.xlabel('Constituency Name')
plt.ylabel('Votes Margin')

# rotate the x-axis labels for better visibility
plt.xticks(rotation=45)

# display the chart
plt.show()
